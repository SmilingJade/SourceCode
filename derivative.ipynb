{
 "cells": [
  {
   "cell_type": "code",
   "execution_count": 1,
   "metadata": {},
   "outputs": [],
   "source": [
    "import numpy as np\n",
    "def diff(f, x, h = 1E-6):   #输入函数，求导点以及dx(或h)，返回导数值\n",
    "    x1 = '('+str(x+h)+')'\n",
    "    x2 = '('+str(x-h)+')'\n",
    "    x1 = f.replace('(x)',(x1))  # f(x)实例化\n",
    "    h1 = f.replace('(x)',(x2))\n",
    "#     print(\"x1 = {},h1 = {}\".format(str(x1),str(h1)))\n",
    "    fa = eval(x1)   # 计算函数表达式\n",
    "    fb = eval(h1)\n",
    "    Derivatives = (fa - fb)/(2*h)  #计算导数估计值\n",
    "    return Derivatives   #返回导数值"
   ]
  },
  {
   "cell_type": "code",
   "execution_count": 2,
   "metadata": {},
   "outputs": [],
   "source": [
    "def accele(f, x, h = 1E-6):  #加速度计算\n",
    "    x1 = '('+str(x+h)+')'\n",
    "    x2 = '('+str(x-h)+')'\n",
    "    x3 = '('+str(x)+')'\n",
    "    f1 = f.replace('(x)',(x1))  # f(x)实例化\n",
    "    f2 = f.replace('(x)',(x2))\n",
    "    f3 = f.replace('(x)',(x3))\n",
    "#     print(\"x1 = {},h1 = {}\".format(str(x1),str(h1)))\n",
    "    fa = eval(f1)   # 计算函数表达式\n",
    "    fb = eval(f2)\n",
    "    fc = eval(f3)   #t时刻位置：x(t)或者y(t)\n",
    "    Derivatives = (fa + fb - 2*fc)/np.square(h)  #计算加速度估计值\n",
    "    return fc,Derivatives   #返回f(x)和加速度值"
   ]
  },
  {
   "cell_type": "code",
   "execution_count": 6,
   "metadata": {},
   "outputs": [],
   "source": [
    "def kinematics(x, y, t, dt = 1E-6): #输入运动轨迹x，y,返回速度v[,]和加速度a[,]\n",
    "    p0, a0 = accele(x,t,dt) #t时刻x坐标和加速度a0\n",
    "    p1, a1 = accele(y,t,dt) #t时刻y坐标和加速度a1\n",
    "    return np.array([p0, p1]), np.array([diff(x, t, dt), diff(y, t, dt)]),np.array([a0,a1])"
   ]
  },
  {
   "cell_type": "code",
   "execution_count": 8,
   "metadata": {},
   "outputs": [
    {
     "name": "stdout",
     "output_type": "stream",
     "text": [
      "t = 0 : 位置p =  [1. 0.] 速度v =  [0.         6.27905195] 加速度a =  [-39.46543143   0.        ]\n",
      "t = π : 位置p =  [0.62968173 0.77685322] 速度v =  [-4.87790173  3.95380427] 加速度a =  [-24.85066096 -30.65884747]\n"
     ]
    }
   ],
   "source": [
    "#x(t) = cos2πt, y(t) = sin2πt\n",
    "p, v, a=kinematics('np.cos(2*np.pi*(x))', 'np.sin(2*np.pi*(x))', 0, 0.01)\n",
    "print('t = 0 : 位置p = ', p,'速度v = ',v,'加速度a = ',a)\n",
    "p, v, a=kinematics('np.cos(2*np.pi*(x))', 'np.sin(2*np.pi*(x))', np.pi, 0.01)\n",
    "print('t = π : 位置p = ', p,'速度v = ',v,'加速度a = ',a)"
   ]
  },
  {
   "cell_type": "code",
   "execution_count": null,
   "metadata": {},
   "outputs": [],
   "source": []
  }
 ],
 "metadata": {
  "kernelspec": {
   "display_name": "Python 3",
   "language": "python",
   "name": "python3"
  },
  "language_info": {
   "codemirror_mode": {
    "name": "ipython",
    "version": 3
   },
   "file_extension": ".py",
   "mimetype": "text/x-python",
   "name": "python",
   "nbconvert_exporter": "python",
   "pygments_lexer": "ipython3",
   "version": "3.7.1"
  }
 },
 "nbformat": 4,
 "nbformat_minor": 2
}
